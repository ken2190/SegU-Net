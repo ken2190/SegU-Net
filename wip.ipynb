{
 "cells": [
  {
   "cell_type": "code",
   "execution_count": 1,
   "metadata": {},
   "outputs": [],
   "source": [
    "import numpy as np, matplotlib.pyplot as plt, os, pickle\n",
    "import tools21cm as t2c, py21cmfast as p21c\n",
    "from py21cmfast import plotting\n",
    "import random, zipfile\n",
    "from astropy.cosmology import FlatLambdaCDM\n",
    "from tqdm import tqdm\n",
    "\n",
    "from utils_network.prediction import SegUnet21cmPredict\n",
    "from utils.other_utils import RescaleData\n",
    "\n",
    "import matplotlib.gridspec as gridspec\n",
    "\n",
    "from itertools import permutations\n",
    "from datetime import datetime\n",
    "\n",
    "outpath = './'"
   ]
  },
  {
   "cell_type": "code",
   "execution_count": 2,
   "metadata": {},
   "outputs": [
    {
     "name": "stderr",
     "output_type": "stream",
     "text": [
      "Using TensorFlow backend.\n"
     ]
    },
    {
     "name": "stdout",
     "output_type": "stream",
     "text": [
      "WARNING:tensorflow:From /home/michele/python/anaconda/lib/python3.7/site-packages/tensorflow/python/util/deprecation.py:507: calling VarianceScaling.__init__ (from tensorflow.python.ops.init_ops) with distribution=normal is deprecated and will be removed in a future version.\n",
      "Instructions for updating:\n",
      "`normal` is a deprecated alias for `truncated_normal`\n",
      "WARNING:tensorflow:From /home/michele/python/anaconda/lib/python3.7/site-packages/tensorflow/python/ops/nn_impl.py:180: add_dispatch_support.<locals>.wrapper (from tensorflow.python.ops.array_ops) is deprecated and will be removed in a future version.\n",
      "Instructions for updating:\n",
      "Use tf.where in 2.0, which has the same broadcast rule as np.where\n",
      " Loaded model:\n",
      " /home/michele/Documents/PhD_Sussex/output/ML/dataset/outputs/02-10T23-52-36_128slice/model-sem21cm_ep56.h5\n"
     ]
    }
   ],
   "source": [
    "from tensorflow.keras.models import load_model\n",
    "from utils_network.metrics import iou, iou_loss, dice_coef, dice_coef_loss, balanced_cross_entropy, phi_coef\n",
    "from config.net_config import NetworkConfig\n",
    "\n",
    "def LoadSegUnetModel(cfile):\n",
    "    avail_metrics = {'binary_accuracy':'binary_accuracy', 'iou':iou, 'dice_coef':dice_coef, 'iou_loss':iou_loss, 'dice_coef_loss':dice_coef_loss, 'phi_coef':phi_coef, 'mse':'mse', 'mae':'mae', 'binary_crossentropy':'binary_crossentropy', 'balanced_cross_entropy':balanced_cross_entropy}\n",
    "    conf = NetworkConfig(conf_file)\n",
    "\n",
    "    PATH_OUT = conf.resume_path\n",
    "    MODEL_EPOCH = conf.best_epoch\n",
    "    METRICS = [avail_metrics[m] for m in np.append(conf.loss, conf.metrics)]\n",
    "    cb = {func.__name__:func for func in METRICS if not isinstance(func, str)}\n",
    "    model_loaded = load_model('%smodel-sem21cm_ep%d.h5' %(PATH_OUT+'checkpoints/', MODEL_EPOCH), custom_objects=cb)\n",
    "    \n",
    "    print(' Loaded model:\\n %smodel-sem21cm_ep%d.h5' %(conf.resume_path, MODEL_EPOCH))\n",
    "    return model_loaded\n",
    "\n",
    "conf_file = '/home/michele/Documents/PhD_Sussex/output/ML/SegNet/tests/runs/net2D_021020.ini'\n",
    "model = LoadSegUnetModel(conf_file)"
   ]
  },
  {
   "cell_type": "code",
   "execution_count": 14,
   "metadata": {},
   "outputs": [],
   "source": [
    "#xHI = np.array([0.2, 0.5, 0.8])\n",
    "#redshift = np.array([7.310, 8.032, 8.720])\n",
    "z = 7.310\n",
    "zeta = 39.204\n",
    "Rmfp = 12.861\n",
    "Tvir = 4.539\n",
    "\n",
    "params = {'HII_DIM':128, 'DIM':384, 'BOX_LEN':256}\n",
    "my_ext = [0, params['BOX_LEN'], 0, params['BOX_LEN']]\n",
    "\n",
    "c_params = {'OMm':0.27, 'OMb':0.046, 'SIGMA_8':0.82, 'POWER_INDEX':0.96}\n",
    "a_params = {'HII_EFF_FACTOR':zeta, 'R_BUBBLE_MAX':Rmfp, 'ION_Tvir_MIN':Tvir}\n",
    "\n",
    "ic = p21c.initial_conditions(user_params=params, cosmo_params=c_params, random_seed=2021)\n",
    "cube = p21c.run_coeval(redshift=z, init_box=ic, astro_params=a_params, zprime_step_factor=1.05)\n",
    "\n",
    "dT = cube.brightness_temp\n",
    "xH = cube.xH_box\n",
    "\n",
    "uvfile = '/home/michele/Documents/PhD_Sussex/output/ML/dataset/inputs/uvmap_128_z7-20.pkl'\n",
    "if not (os.path.exists(uvfile)):\n",
    "    print('uv-map pickle not found')\n",
    "else:\n",
    "    uvs = pickle.load(open(uvfile, 'rb'))\n",
    "\n",
    "uv = uvs['%.3f' %z]\n",
    "Nant = uvs['Nant']\n",
    "\n"
   ]
  },
  {
   "cell_type": "code",
   "execution_count": null,
   "metadata": {},
   "outputs": [
    {
     "name": "stdout",
     "output_type": "stream",
     "text": [
      "Creating the noise cube...\n"
     ]
    },
    {
     "name": "stderr",
     "output_type": "stream",
     "text": [
      "100%|██████████| 128/128 [00:00<00:00, 240.41it/s]\n"
     ]
    },
    {
     "name": "stdout",
     "output_type": "stream",
     "text": [
      "...noise cube created.\n"
     ]
    },
    {
     "name": "stderr",
     "output_type": "stream",
     "text": [
      "100%|██████████| 1/1 [00:50<00:00, 50.13s/it]\n"
     ]
    },
    {
     "name": "stdout",
     "output_type": "stream",
     "text": [
      "MFP method applied on 3D data (ver 1.0)\n",
      "Completed: 100.0%\n",
      "Program runtime: 0.355505 minutes.\n",
      "The output contains a tuple with three values: r, rdP/dr\n",
      "The curve has been normalized.\n",
      "Creating the noise cube...\n"
     ]
    },
    {
     "name": "stderr",
     "output_type": "stream",
     "text": [
      "100%|██████████| 128/128 [00:00<00:00, 151.87it/s]\n"
     ]
    },
    {
     "name": "stdout",
     "output_type": "stream",
     "text": [
      "...noise cube created.\n"
     ]
    },
    {
     "name": "stderr",
     "output_type": "stream",
     "text": [
      "100%|██████████| 1/1 [00:37<00:00, 37.73s/it]\n"
     ]
    },
    {
     "name": "stdout",
     "output_type": "stream",
     "text": [
      "MFP method applied on 3D data (ver 1.0)\n",
      "Completed: 100.0%\n",
      "Program runtime: 0.305828 minutes.\n",
      "The output contains a tuple with three values: r, rdP/dr\n",
      "The curve has been normalized.\n",
      "Creating the noise cube...\n"
     ]
    },
    {
     "name": "stderr",
     "output_type": "stream",
     "text": [
      "100%|██████████| 128/128 [00:00<00:00, 263.82it/s]\n"
     ]
    },
    {
     "name": "stdout",
     "output_type": "stream",
     "text": [
      "...noise cube created.\n"
     ]
    },
    {
     "name": "stderr",
     "output_type": "stream",
     "text": [
      "100%|██████████| 1/1 [00:35<00:00, 35.43s/it]\n"
     ]
    },
    {
     "name": "stdout",
     "output_type": "stream",
     "text": [
      "MFP method applied on 3D data (ver 1.0)\n",
      "Completed: 100.0%\n",
      "Program runtime: 0.274516 minutes.\n",
      "The output contains a tuple with three values: r, rdP/dr\n",
      "The curve has been normalized.\n",
      "Creating the noise cube...\n"
     ]
    },
    {
     "name": "stderr",
     "output_type": "stream",
     "text": [
      "100%|██████████| 128/128 [00:00<00:00, 255.15it/s]\n"
     ]
    },
    {
     "name": "stdout",
     "output_type": "stream",
     "text": [
      "...noise cube created.\n"
     ]
    },
    {
     "name": "stderr",
     "output_type": "stream",
     "text": [
      "100%|██████████| 1/1 [00:31<00:00, 31.89s/it]\n"
     ]
    },
    {
     "name": "stdout",
     "output_type": "stream",
     "text": [
      "MFP method applied on 3D data (ver 1.0)\n",
      "Completed: 100.0%\n",
      "Program runtime: 0.265308 minutes.\n",
      "The output contains a tuple with three values: r, rdP/dr\n",
      "The curve has been normalized.\n",
      "Creating the noise cube...\n"
     ]
    },
    {
     "name": "stderr",
     "output_type": "stream",
     "text": [
      "100%|██████████| 128/128 [00:00<00:00, 259.24it/s]\n"
     ]
    },
    {
     "name": "stdout",
     "output_type": "stream",
     "text": [
      "...noise cube created.\n"
     ]
    },
    {
     "name": "stderr",
     "output_type": "stream",
     "text": [
      "100%|██████████| 1/1 [00:30<00:00, 30.61s/it]\n"
     ]
    },
    {
     "name": "stdout",
     "output_type": "stream",
     "text": [
      "MFP method applied on 3D data (ver 1.0)\n",
      "Completed: 100.0%\n",
      "Program runtime: 0.276890 minutes.\n",
      "The output contains a tuple with three values: r, rdP/dr\n",
      "The curve has been normalized.\n",
      "Creating the noise cube...\n"
     ]
    },
    {
     "name": "stderr",
     "output_type": "stream",
     "text": [
      "100%|██████████| 128/128 [00:00<00:00, 350.75it/s]\n"
     ]
    },
    {
     "name": "stdout",
     "output_type": "stream",
     "text": [
      "...noise cube created.\n"
     ]
    },
    {
     "name": "stderr",
     "output_type": "stream",
     "text": [
      "100%|██████████| 1/1 [00:33<00:00, 33.53s/it]\n"
     ]
    },
    {
     "name": "stdout",
     "output_type": "stream",
     "text": [
      "MFP method applied on 3D data (ver 1.0)\n",
      "Completed: 100.0%\n",
      "Program runtime: 0.272142 minutes.\n",
      "The output contains a tuple with three values: r, rdP/dr\n",
      "The curve has been normalized.\n",
      "Creating the noise cube...\n"
     ]
    },
    {
     "name": "stderr",
     "output_type": "stream",
     "text": [
      "100%|██████████| 128/128 [00:00<00:00, 273.47it/s]\n"
     ]
    },
    {
     "name": "stdout",
     "output_type": "stream",
     "text": [
      "...noise cube created.\n"
     ]
    },
    {
     "name": "stderr",
     "output_type": "stream",
     "text": [
      "100%|██████████| 1/1 [00:28<00:00, 28.77s/it]\n"
     ]
    },
    {
     "name": "stdout",
     "output_type": "stream",
     "text": [
      "MFP method applied on 3D data (ver 1.0)\n",
      "Completed: 100.0%\n",
      "Program runtime: 0.293416 minutes.\n",
      "The output contains a tuple with three values: r, rdP/dr\n",
      "The curve has been normalized.\n",
      "Creating the noise cube...\n"
     ]
    },
    {
     "name": "stderr",
     "output_type": "stream",
     "text": [
      "100%|██████████| 128/128 [00:00<00:00, 216.76it/s]\n"
     ]
    },
    {
     "name": "stdout",
     "output_type": "stream",
     "text": [
      "...noise cube created.\n"
     ]
    },
    {
     "name": "stderr",
     "output_type": "stream",
     "text": [
      "100%|██████████| 1/1 [00:41<00:00, 41.86s/it]\n"
     ]
    },
    {
     "name": "stdout",
     "output_type": "stream",
     "text": [
      "MFP method applied on 3D data (ver 1.0)\n",
      "Completed: 100.0%\n",
      "Program runtime: 0.296737 minutes.\n",
      "The output contains a tuple with three values: r, rdP/dr\n",
      "The curve has been normalized.\n",
      "Creating the noise cube...\n"
     ]
    },
    {
     "name": "stderr",
     "output_type": "stream",
     "text": [
      "100%|██████████| 128/128 [00:00<00:00, 210.50it/s]\n"
     ]
    },
    {
     "name": "stdout",
     "output_type": "stream",
     "text": [
      "...noise cube created.\n"
     ]
    },
    {
     "name": "stderr",
     "output_type": "stream",
     "text": [
      "100%|██████████| 1/1 [00:49<00:00, 49.37s/it]\n"
     ]
    },
    {
     "name": "stdout",
     "output_type": "stream",
     "text": [
      "MFP method applied on 3D data (ver 1.0)\n",
      "Completed: 100.0%\n",
      "Program runtime: 0.268089 minutes.\n",
      "The output contains a tuple with three values: r, rdP/dr\n",
      "The curve has been normalized.\n",
      "Creating the noise cube...\n"
     ]
    },
    {
     "name": "stderr",
     "output_type": "stream",
     "text": [
      "100%|██████████| 128/128 [00:00<00:00, 245.66it/s]\n"
     ]
    },
    {
     "name": "stdout",
     "output_type": "stream",
     "text": [
      "...noise cube created.\n"
     ]
    },
    {
     "name": "stderr",
     "output_type": "stream",
     "text": [
      "100%|██████████| 1/1 [00:39<00:00, 39.97s/it]\n"
     ]
    },
    {
     "name": "stdout",
     "output_type": "stream",
     "text": [
      "MFP method applied on 3D data (ver 1.0)\n"
     ]
    }
   ],
   "source": [
    "dT1 = t2c.subtract_mean_signal(dT, los_axis=2)\n",
    "tobs = 500\n",
    "\n",
    "for i in range(10):\n",
    "    str_seed = [var for var in datetime.now().strftime('%d%H%M%S')]\n",
    "    np.random.shuffle(str_seed)\n",
    "    seed = int(''.join(str_seed))\n",
    "\n",
    "    np.random.seed(seed)\n",
    "    noise_cube = t2c.noise_cube_coeval(params['HII_DIM'], z, obs_time=tobs, boxsize=params['BOX_LEN'], uv_map=uv, N_ant=Nant, verbose=False)\n",
    "\n",
    "    dT3 = t2c.smooth_coeval(dT1+noise_cube, z, box_size_mpc=params['HII_DIM'], max_baseline=2.0, ratio=1.0, nu_axis=2)\n",
    "\n",
    "    X_tta = SegUnet21cmPredict(unet=model, x=dT3, TTA=False)\n",
    "    X_seg = np.round(np.mean(X_tta, axis=0))\n",
    "\n",
    "    mfp_pred_ml = t2c.bubble_stats.mfp(X_seg, xth=0.5, boxsize=params['BOX_LEN'], iterations=2000000, verbose=False, upper_lim=False, bins=None, r_min=None, r_max=None)\n",
    "\n",
    "    plt.loglog(mfp_pred_ml[0], mfp_pred_ml[1], '-', color='tab:blue', label=r'SegUNet', lw=2)\n",
    "plt.savefig('tobs%d_0.5.png' %tobs)\n",
    "plt.show(), plt.clf()"
   ]
  },
  {
   "cell_type": "code",
   "execution_count": null,
   "metadata": {},
   "outputs": [],
   "source": []
  }
 ],
 "metadata": {
  "kernelspec": {
   "display_name": "Python 3",
   "language": "python",
   "name": "python3"
  },
  "language_info": {
   "codemirror_mode": {
    "name": "ipython",
    "version": 3
   },
   "file_extension": ".py",
   "mimetype": "text/x-python",
   "name": "python",
   "nbconvert_exporter": "python",
   "pygments_lexer": "ipython3",
   "version": "3.7.2"
  }
 },
 "nbformat": 4,
 "nbformat_minor": 2
}
